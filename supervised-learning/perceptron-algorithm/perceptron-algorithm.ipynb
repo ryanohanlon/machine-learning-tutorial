{
 "cells": [
  {
   "cell_type": "markdown",
   "metadata": {},
   "source": [
    "# Coding the Perceptron Algorithm"
   ]
  },
  {
   "cell_type": "markdown",
   "metadata": {},
   "source": [
    "Recall that the perceptron step works as follows. For a point with coordinates (p,q), label y, and prediction given by the equation y_hat = step(w_1x_1 + w_2x_2 + b)\n",
    "\n",
    "- If the point is correctly classified, do nothing.\n",
    "- If the point is classified positive, but it has a negative label, subtract αp,αq, and α from w_1, w_2 and b respectively.\n",
    "- If the point is classified negative, but it has a positive label, add αp, αq, and α to w_1, w_2 and b respectively."
   ]
  },
  {
   "cell_type": "code",
   "execution_count": 101,
   "metadata": {},
   "outputs": [],
   "source": [
    "import numpy as np\n",
    "# Setting the random seed, feel free to change it and see different solutions.\n",
    "np.random.seed(42)"
   ]
  },
  {
   "cell_type": "code",
   "execution_count": 102,
   "metadata": {},
   "outputs": [],
   "source": [
    "data = np.loadtxt(\"data.csv\", delimiter=\",\")\n",
    "X = data[:,:-1]\n",
    "y = data[:,-1:]"
   ]
  },
  {
   "cell_type": "code",
   "execution_count": 103,
   "metadata": {},
   "outputs": [],
   "source": [
    "def stepFunction(t):\n",
    "    if t >= 0:\n",
    "        return 1\n",
    "    return 0\n",
    "\n",
    "def prediction(X, W, b):\n",
    "    return stepFunction((np.matmul(X,W)+b)[0])"
   ]
  },
  {
   "cell_type": "code",
   "execution_count": 104,
   "metadata": {},
   "outputs": [],
   "source": [
    "# TODO: Fill in the code below to implement the perceptron trick.\n",
    "# The function should receive as inputs the data X, the labels y,\n",
    "# the weights W (as an array), and the bias b,\n",
    "# update the weights and bias W, b, according to the perceptron algorithm,\n",
    "# and return W and b.\n",
    "def perceptronStep(X, y, W, b, learn_rate = 0.01):\n",
    "    for i in range(len(X)):\n",
    "        y_hat = prediction(X[i], W, b)\n",
    "        if y[i] - y_hat == 1: # postive point in the negative area\n",
    "            W[0] = W[0] + learn_rate*X[i][0]\n",
    "            W[1] = W[1] + learn_rate*0.1*X[i][1]\n",
    "            b = b+learn_rate\n",
    "        elif y[i]-y_hat == -1: # negative point in the positive area\n",
    "            W[0] = W[0] - learn_rate*X[i][0]\n",
    "            W[1] = W[1] - learn_rate*X[i][1]\n",
    "            b = b - learn_rate\n",
    "    return W, b"
   ]
  },
  {
   "cell_type": "code",
   "execution_count": 105,
   "metadata": {},
   "outputs": [],
   "source": [
    "def trainPerceptronAlgorithm(X, y, learn_rate = 0.01, num_epochs = 25):\n",
    "    \"\"\"\n",
    "    This function runs the perceptron algorithm repeatedly on the dataset,\n",
    "    and returns a few of the boundary lines obtained in the iterations,\n",
    "    for plotting purposes.\n",
    "    Feel free to play with the learning rate and the num_epochs,\n",
    "    and see your results plotted below.\n",
    "    \"\"\"\n",
    "    x_min, x_max = min(X.T[0]), max(X.T[0])\n",
    "    y_min, y_max = min(X.T[1]), max(X.T[1])\n",
    "    # Randon weights and bias\n",
    "    W = np.array(np.random.rand(2,1))\n",
    "    b = np.random.rand(1)[0] + x_max\n",
    "    # These are the solution lines that get plotted below.\n",
    "    boundary_lines = []\n",
    "    for i in range(num_epochs):\n",
    "        # In each epoch, we apply the perceptron step.\n",
    "        W, b = perceptronStep(X, y, W, b, learn_rate)\n",
    "        boundary_lines.append((-W[0]/W[1], -b/W[1]))\n",
    "    return boundary_lines"
   ]
  },
  {
   "cell_type": "code",
   "execution_count": 106,
   "metadata": {},
   "outputs": [
    {
     "data": {
      "text/plain": [
       "[(array([-0.05239463]), array([-2.04919443])),\n",
       " (array([1.23772563]), array([-2.90815949])),\n",
       " (array([-39.47663703]), array([23.57864461])),\n",
       " (array([-11.34158346]), array([6.1013522])),\n",
       " (array([-7.48129832]), array([3.75477488])),\n",
       " (array([-5.5183233]), array([2.9333658])),\n",
       " (array([-4.3269953]), array([2.43485328])),\n",
       " (array([-3.65789199]), array([2.17597733])),\n",
       " (array([-3.14966347]), array([1.979507])),\n",
       " (array([-2.76824493]), array([1.7667891])),\n",
       " (array([-2.50479936]), array([1.68904009])),\n",
       " (array([-2.24140556]), array([1.53587177])),\n",
       " (array([-2.04891848]), array([1.48369712])),\n",
       " (array([-1.85685075]), array([1.36731875])),\n",
       " (array([-1.70956315]), array([1.33084089])),\n",
       " (array([-1.57734918]), array([1.24156358])),\n",
       " (array([-1.47250245]), array([1.21765778])),\n",
       " (array([-1.36817659]), array([1.14439036])),\n",
       " (array([-1.28228903]), array([1.1268416])),\n",
       " (array([-1.20318457]), array([1.11067878])),\n",
       " (array([-1.12628491]), array([1.05235843])),\n",
       " (array([-1.05966358]), array([1.04028287])),\n",
       " (array([-0.99602282]), array([0.99016564])),\n",
       " (array([-0.93903883]), array([0.98111738])),\n",
       " (array([-0.8856169]), array([0.93745303]))]"
      ]
     },
     "execution_count": 106,
     "metadata": {},
     "output_type": "execute_result"
    }
   ],
   "source": [
    "trainPerceptronAlgorithm(X,y)"
   ]
  },
  {
   "cell_type": "code",
   "execution_count": null,
   "metadata": {},
   "outputs": [],
   "source": []
  }
 ],
 "metadata": {
  "kernelspec": {
   "display_name": "Python 3",
   "language": "python",
   "name": "python3"
  },
  "language_info": {
   "codemirror_mode": {
    "name": "ipython",
    "version": 3
   },
   "file_extension": ".py",
   "mimetype": "text/x-python",
   "name": "python",
   "nbconvert_exporter": "python",
   "pygments_lexer": "ipython3",
   "version": "3.8.1"
  }
 },
 "nbformat": 4,
 "nbformat_minor": 4
}
